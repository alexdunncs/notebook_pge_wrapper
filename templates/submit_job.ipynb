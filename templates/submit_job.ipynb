{
 "cells": [
  {
   "cell_type": "markdown",
   "source": [
    "## Submitting a job with the [`otello`](https://github.com/hysds/otello) python library\n",
    "\n",
    "Once your job-type has been registered and built (see: [pge_create.ipynb](pge_create.ipynb)), jobs can be submitted from python using the steps laid out in this notebook.\n",
    "\n",
    "While this notebook only shows submission of a single job/parameter-set, you can map or iterate over a collection of input parameter sets to efficiently submit large batches of jobs."
   ],
   "metadata": {
    "collapsed": false,
    "pycharm": {
     "name": "#%% md\n"
    }
   }
  },
  {
   "cell_type": "markdown",
   "metadata": {},
   "source": [
    "### Establish an otello `Mozart` instance to communicate with the HySDS cluster controller.\n",
    "It will be necessary to provide credentials the first time you initialise otello.\n",
    "\n",
    "When prompted for the HySDS host, include the protocol, e.g. https://my-mozart.jpl.nasa.gov\n",
    "\n",
    "When prompted for \"HySDS cluster authenticated\", enter 'y' if the cluster requires a password to access."
   ]
  },
  {
   "cell_type": "code",
   "execution_count": null,
   "metadata": {},
   "outputs": [],
   "source": [
    "import os\n",
    "from pathlib import Path\n",
    "from pprint import pprint\n",
    "import otello\n",
    "\n",
    "if not os.path.exists(f\"{Path.home()}/.config/otello/config.yml\"):\n",
    "    otello.client.initialize()\n",
    "\n",
    "m = otello.mozart.Mozart()"
   ]
  },
  {
   "cell_type": "markdown",
   "metadata": {},
   "source": [
    "#### Instantiating a `JobType` object\n",
    "You will need to ensure that the the tag (i.e. the portion following the colon) matches the branch name used by your repository.\n",
    "\n",
    "You will also need to replace `<YOUR_JOB_TYPE_NAME>` with the name of your job's notebook (without the filetype extension).\n",
    "e.g. if your notebook is hello_world_sample_pge.ipynb, the hysds-io.json and job-spec.jsons will have suffix `hello_world_sample_pge` and the value of `job_type` below would be `job-hello_world_sample_pge:develop` or similar."
   ]
  },
  {
   "cell_type": "code",
   "execution_count": null,
   "metadata": {},
   "outputs": [],
   "source": [
    "job_type='job-<YOUR_JOB_TYPE_NAME>:develop'  # This will need to be customised using the relevant action name (ie job/hysds-spec suffix) and branch name.\n",
    "\n",
    "hw_job_def = m.get_job_types()[job_type]\n",
    "hw_job_def.initialize()"
   ]
  },
  {
   "cell_type": "markdown",
   "metadata": {},
   "source": [
    "### Getting useful information about the job-type\n",
    "\n",
    "These commands list (respectively)\n",
    "- the available queues\n",
    "- the input schema (parameters) of the job-type\n",
    "- the default arguments for the job-type"
   ]
  },
  {
   "cell_type": "code",
   "execution_count": null,
   "metadata": {},
   "outputs": [],
   "source": [
    "hw_job_def.get_queues()\n",
    "print(hw_job_def.describe())\n",
    "pprint(hw_job_def.get_input_params())"
   ]
  },
  {
   "cell_type": "markdown",
   "metadata": {},
   "source": [
    "### Specifying arguments to pass when running the job\n",
    "\n",
    "Here is where user-defined parameter values are specified, making sure to remain consistent with value types as indicated in the *helloworld_notebook*. Default values are used where none are provided (as we've done here with *start_orbit_number*). *set_input_params* is called to pass the parameter values to the job."
   ]
  },
  {
   "cell_type": "code",
   "execution_count": null,
   "metadata": {},
   "outputs": [],
   "source": [
    "custom_parameters = {\n",
    "    'str_arg' : 'THIS IS JOB 1'\n",
    "}\n",
    "    \n",
    "hw_job_def.set_input_params(custom_parameters)\n",
    "pprint(hw_job_def.get_input_params())"
   ]
  },
  {
   "cell_type": "markdown",
   "metadata": {},
   "source": [
    "### Submitting the job\n",
    "A job tag (useful for finding the job later) and job queue are specified. Both are optional. Job submission is asynchronous, so this call will return almost immediately."
   ]
  },
  {
   "cell_type": "code",
   "execution_count": null,
   "metadata": {},
   "outputs": [],
   "source": [
    "from datetime import datetime\n",
    "\n",
    "sample_job_tag = f'{datetime.strftime(datetime.now(), \"%Y%m%d\")}_submit_job_test'\n",
    "print(sample_job_tag)\n",
    "\n",
    "job_run = hw_job_def.submit_job(tag=sample_job_tag, queue=\"factotum-job_worker-small\")"
   ]
  },
  {
   "cell_type": "markdown",
   "metadata": {},
   "source": [
    "### Determining job completion\n",
    "Information about the job state will print periodically, until the job is completed."
   ]
  },
  {
   "cell_type": "code",
   "execution_count": null,
   "metadata": {
    "pycharm": {
     "name": "#%%\n"
    }
   },
   "outputs": [],
   "source": [
    "job_run.wait_for_completion()"
   ]
  }
 ],
 "metadata": {
  "kernelspec": {
   "display_name": "Python 3",
   "language": "python",
   "name": "python3"
  },
  "language_info": {
   "codemirror_mode": {
    "name": "ipython",
    "version": 3
   },
   "file_extension": ".py",
   "mimetype": "text/x-python",
   "name": "python",
   "nbconvert_exporter": "python",
   "pygments_lexer": "ipython3",
   "version": "3.8.2"
  }
 },
 "nbformat": 4,
 "nbformat_minor": 4
}